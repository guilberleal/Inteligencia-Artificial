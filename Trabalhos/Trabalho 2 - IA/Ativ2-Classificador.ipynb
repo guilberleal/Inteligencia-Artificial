{
 "cells": [
  {
   "cell_type": "markdown",
   "metadata": {},
   "source": [
    "# Atividade Avaliativa 2 - Classificador casos de COVID-19"
   ]
  },
  {
   "cell_type": "code",
   "execution_count": 1,
   "metadata": {},
   "outputs": [],
   "source": [
    "# importaçao das Bibliotecas\n",
    "import pandas as pd     # Manipulaçao de dados\n",
    "import numpy as np      # Funçoes matematicas\n",
    "import matplotlib.pyplot as plt     # plot de graficos"
   ]
  },
  {
   "cell_type": "code",
   "execution_count": 3,
   "metadata": {},
   "outputs": [
    {
     "data": {
      "text/html": [
       "<div>\n",
       "<style scoped>\n",
       "    .dataframe tbody tr th:only-of-type {\n",
       "        vertical-align: middle;\n",
       "    }\n",
       "\n",
       "    .dataframe tbody tr th {\n",
       "        vertical-align: top;\n",
       "    }\n",
       "\n",
       "    .dataframe thead th {\n",
       "        text-align: right;\n",
       "    }\n",
       "</style>\n",
       "<table border=\"1\" class=\"dataframe\">\n",
       "  <thead>\n",
       "    <tr style=\"text-align: right;\">\n",
       "      <th></th>\n",
       "      <th>DT_NOTIFIC</th>\n",
       "      <th>SEM_NOT</th>\n",
       "      <th>DT_SIN_PRI</th>\n",
       "      <th>SEM_PRI</th>\n",
       "      <th>SG_UF_NOT</th>\n",
       "      <th>ID_REGIONA</th>\n",
       "      <th>CO_REGIONA</th>\n",
       "      <th>ID_MUNICIP</th>\n",
       "      <th>CO_MUN_NOT</th>\n",
       "      <th>ID_UNIDADE</th>\n",
       "      <th>...</th>\n",
       "      <th>DS_AN_OUT</th>\n",
       "      <th>TP_AM_SOR</th>\n",
       "      <th>SOR_OUT</th>\n",
       "      <th>DT_CO_SOR</th>\n",
       "      <th>TP_SOR</th>\n",
       "      <th>OUT_SOR</th>\n",
       "      <th>DT_RES</th>\n",
       "      <th>RES_IGG</th>\n",
       "      <th>RES_IGM</th>\n",
       "      <th>RES_IGA</th>\n",
       "    </tr>\n",
       "  </thead>\n",
       "  <tbody>\n",
       "    <tr>\n",
       "      <th>0</th>\n",
       "      <td>15/01/2020</td>\n",
       "      <td>3</td>\n",
       "      <td>13/01/2020</td>\n",
       "      <td>3</td>\n",
       "      <td>RJ</td>\n",
       "      <td>NaN</td>\n",
       "      <td>NaN</td>\n",
       "      <td>RIO DE JANEIRO</td>\n",
       "      <td>330455</td>\n",
       "      <td>MS HSE HOSPITAL DOS SERVIDORES DO ESTADO</td>\n",
       "      <td>...</td>\n",
       "      <td>NaN</td>\n",
       "      <td>NaN</td>\n",
       "      <td>NaN</td>\n",
       "      <td>NaN</td>\n",
       "      <td>NaN</td>\n",
       "      <td>NaN</td>\n",
       "      <td>NaN</td>\n",
       "      <td>NaN</td>\n",
       "      <td>NaN</td>\n",
       "      <td>NaN</td>\n",
       "    </tr>\n",
       "    <tr>\n",
       "      <th>1</th>\n",
       "      <td>18/02/2020</td>\n",
       "      <td>8</td>\n",
       "      <td>15/02/2020</td>\n",
       "      <td>7</td>\n",
       "      <td>RS</td>\n",
       "      <td>002 CRS</td>\n",
       "      <td>1607.0</td>\n",
       "      <td>PORTO ALEGRE</td>\n",
       "      <td>431490</td>\n",
       "      <td>HOSPITAL NOSSA SENHORA DA CONCEICAO SA</td>\n",
       "      <td>...</td>\n",
       "      <td>NaN</td>\n",
       "      <td>NaN</td>\n",
       "      <td>NaN</td>\n",
       "      <td>NaN</td>\n",
       "      <td>NaN</td>\n",
       "      <td>NaN</td>\n",
       "      <td>NaN</td>\n",
       "      <td>NaN</td>\n",
       "      <td>NaN</td>\n",
       "      <td>NaN</td>\n",
       "    </tr>\n",
       "    <tr>\n",
       "      <th>2</th>\n",
       "      <td>28/02/2020</td>\n",
       "      <td>9</td>\n",
       "      <td>25/02/2020</td>\n",
       "      <td>9</td>\n",
       "      <td>PR</td>\n",
       "      <td>02RS METROPOLITANA</td>\n",
       "      <td>1356.0</td>\n",
       "      <td>CURITIBA</td>\n",
       "      <td>410690</td>\n",
       "      <td>HOSPITAL UNIVERSITARIO EVANGELICO MACKENZIE</td>\n",
       "      <td>...</td>\n",
       "      <td>NaN</td>\n",
       "      <td>NaN</td>\n",
       "      <td>NaN</td>\n",
       "      <td>NaN</td>\n",
       "      <td>NaN</td>\n",
       "      <td>NaN</td>\n",
       "      <td>NaN</td>\n",
       "      <td>NaN</td>\n",
       "      <td>NaN</td>\n",
       "      <td>NaN</td>\n",
       "    </tr>\n",
       "    <tr>\n",
       "      <th>3</th>\n",
       "      <td>27/02/2020</td>\n",
       "      <td>9</td>\n",
       "      <td>24/02/2020</td>\n",
       "      <td>9</td>\n",
       "      <td>MG</td>\n",
       "      <td>VARGINHA</td>\n",
       "      <td>1466.0</td>\n",
       "      <td>ITAMONTE</td>\n",
       "      <td>313300</td>\n",
       "      <td>CASA DE CARIDADE DE ITAMONTE</td>\n",
       "      <td>...</td>\n",
       "      <td>NaN</td>\n",
       "      <td>NaN</td>\n",
       "      <td>NaN</td>\n",
       "      <td>NaN</td>\n",
       "      <td>NaN</td>\n",
       "      <td>NaN</td>\n",
       "      <td>NaN</td>\n",
       "      <td>NaN</td>\n",
       "      <td>NaN</td>\n",
       "      <td>NaN</td>\n",
       "    </tr>\n",
       "    <tr>\n",
       "      <th>4</th>\n",
       "      <td>08/03/2020</td>\n",
       "      <td>11</td>\n",
       "      <td>01/03/2020</td>\n",
       "      <td>10</td>\n",
       "      <td>SP</td>\n",
       "      <td>GVE XXIX SAO JOSE DO RIO PRETO</td>\n",
       "      <td>1354.0</td>\n",
       "      <td>VOTUPORANGA</td>\n",
       "      <td>355710</td>\n",
       "      <td>SANTA CASA DE VOTUPORANGA</td>\n",
       "      <td>...</td>\n",
       "      <td>NaN</td>\n",
       "      <td>NaN</td>\n",
       "      <td>NaN</td>\n",
       "      <td>NaN</td>\n",
       "      <td>NaN</td>\n",
       "      <td>NaN</td>\n",
       "      <td>NaN</td>\n",
       "      <td>NaN</td>\n",
       "      <td>NaN</td>\n",
       "      <td>NaN</td>\n",
       "    </tr>\n",
       "  </tbody>\n",
       "</table>\n",
       "<p>5 rows × 154 columns</p>\n",
       "</div>"
      ],
      "text/plain": [
       "   DT_NOTIFIC  SEM_NOT  DT_SIN_PRI  SEM_PRI SG_UF_NOT  \\\n",
       "0  15/01/2020        3  13/01/2020        3        RJ   \n",
       "1  18/02/2020        8  15/02/2020        7        RS   \n",
       "2  28/02/2020        9  25/02/2020        9        PR   \n",
       "3  27/02/2020        9  24/02/2020        9        MG   \n",
       "4  08/03/2020       11  01/03/2020       10        SP   \n",
       "\n",
       "                       ID_REGIONA  CO_REGIONA      ID_MUNICIP  CO_MUN_NOT  \\\n",
       "0                             NaN         NaN  RIO DE JANEIRO      330455   \n",
       "1                         002 CRS      1607.0    PORTO ALEGRE      431490   \n",
       "2              02RS METROPOLITANA      1356.0        CURITIBA      410690   \n",
       "3                        VARGINHA      1466.0        ITAMONTE      313300   \n",
       "4  GVE XXIX SAO JOSE DO RIO PRETO      1354.0     VOTUPORANGA      355710   \n",
       "\n",
       "                                    ID_UNIDADE  ...  DS_AN_OUT TP_AM_SOR  \\\n",
       "0     MS HSE HOSPITAL DOS SERVIDORES DO ESTADO  ...        NaN       NaN   \n",
       "1       HOSPITAL NOSSA SENHORA DA CONCEICAO SA  ...        NaN       NaN   \n",
       "2  HOSPITAL UNIVERSITARIO EVANGELICO MACKENZIE  ...        NaN       NaN   \n",
       "3                 CASA DE CARIDADE DE ITAMONTE  ...        NaN       NaN   \n",
       "4                    SANTA CASA DE VOTUPORANGA  ...        NaN       NaN   \n",
       "\n",
       "  SOR_OUT  DT_CO_SOR  TP_SOR OUT_SOR  DT_RES  RES_IGG RES_IGM  RES_IGA  \n",
       "0     NaN        NaN     NaN     NaN     NaN      NaN     NaN      NaN  \n",
       "1     NaN        NaN     NaN     NaN     NaN      NaN     NaN      NaN  \n",
       "2     NaN        NaN     NaN     NaN     NaN      NaN     NaN      NaN  \n",
       "3     NaN        NaN     NaN     NaN     NaN      NaN     NaN      NaN  \n",
       "4     NaN        NaN     NaN     NaN     NaN      NaN     NaN      NaN  \n",
       "\n",
       "[5 rows x 154 columns]"
      ]
     },
     "execution_count": 3,
     "metadata": {},
     "output_type": "execute_result"
    }
   ],
   "source": [
    "# carrega arquivo csv para variavel Dados\n",
    "# variavel Dados recebe DataFrame\n",
    "DadosDF = pd.read_csv('INFLUD-30-11-2020.csv', sep=';')\n",
    "# Visualizaçao do DataFrame a ser tratado\n",
    "# head() por padrao so visualiza as 5 primeiras linhas\n",
    "DadosDF.head()\n"
   ]
  },
  {
   "cell_type": "code",
   "execution_count": 3,
   "metadata": {},
   "outputs": [
    {
     "data": {
      "text/plain": [
       "(973110, 154)"
      ]
     },
     "execution_count": 3,
     "metadata": {},
     "output_type": "execute_result"
    }
   ],
   "source": [
    "# Tamanho do DataFrame (973110 Linhas, 154 Colunas)\n",
    "DadosDF.shape"
   ]
  },
  {
   "cell_type": "code",
   "execution_count": 4,
   "metadata": {},
   "outputs": [
    {
     "name": "stdout",
     "output_type": "stream",
     "text": [
      "['DT_NOTIFIC' 'SEM_NOT' 'DT_SIN_PRI' 'SEM_PRI' 'SG_UF_NOT' 'ID_REGIONA'\n",
      " 'CO_REGIONA' 'ID_MUNICIP' 'CO_MUN_NOT' 'ID_UNIDADE' 'CO_UNI_NOT'\n",
      " 'CS_SEXO' 'DT_NASC' 'NU_IDADE_N' 'TP_IDADE' 'COD_IDADE' 'CS_GESTANT'\n",
      " 'CS_RACA' 'CS_ETINIA' 'CS_ESCOL_N' 'ID_PAIS' 'CO_PAIS' 'SG_UF'\n",
      " 'ID_RG_RESI' 'CO_RG_RESI' 'ID_MN_RESI' 'CO_MUN_RES' 'CS_ZONA' 'SURTO_SG'\n",
      " 'NOSOCOMIAL' 'AVE_SUINO' 'FEBRE' 'TOSSE' 'GARGANTA' 'DISPNEIA'\n",
      " 'DESC_RESP' 'SATURACAO' 'DIARREIA' 'VOMITO' 'OUTRO_SIN' 'OUTRO_DES'\n",
      " 'PUERPERA' 'FATOR_RISC' 'CARDIOPATI' 'HEMATOLOGI' 'SIND_DOWN' 'HEPATICA'\n",
      " 'ASMA' 'DIABETES' 'NEUROLOGIC' 'PNEUMOPATI' 'IMUNODEPRE' 'RENAL'\n",
      " 'OBESIDADE' 'OBES_IMC' 'OUT_MORBI' 'MORB_DESC' 'VACINA' 'DT_UT_DOSE'\n",
      " 'MAE_VAC' 'DT_VAC_MAE' 'M_AMAMENTA' 'DT_DOSEUNI' 'DT_1_DOSE' 'DT_2_DOSE'\n",
      " 'ANTIVIRAL' 'TP_ANTIVIR' 'OUT_ANTIV' 'DT_ANTIVIR' 'HOSPITAL' 'DT_INTERNA'\n",
      " 'SG_UF_INTE' 'ID_RG_INTE' 'CO_RG_INTE' 'ID_MN_INTE' 'CO_MU_INTE' 'UTI'\n",
      " 'DT_ENTUTI' 'DT_SAIDUTI' 'SUPORT_VEN' 'RAIOX_RES' 'RAIOX_OUT' 'DT_RAIOX'\n",
      " 'AMOSTRA' 'DT_COLETA' 'TP_AMOSTRA' 'OUT_AMOST' 'PCR_RESUL' 'DT_PCR'\n",
      " 'POS_PCRFLU' 'TP_FLU_PCR' 'PCR_FLUASU' 'FLUASU_OUT' 'PCR_FLUBLI'\n",
      " 'FLUBLI_OUT' 'POS_PCROUT' 'PCR_VSR' 'PCR_PARA1' 'PCR_PARA2' 'PCR_PARA3'\n",
      " 'PCR_PARA4' 'PCR_ADENO' 'PCR_METAP' 'PCR_BOCA' 'PCR_RINO' 'PCR_OUTRO'\n",
      " 'DS_PCR_OUT' 'CLASSI_FIN' 'CLASSI_OUT' 'CRITERIO' 'EVOLUCAO' 'DT_EVOLUCA'\n",
      " 'DT_ENCERRA' 'DT_DIGITA' 'HISTO_VGM' 'PAIS_VGM' 'CO_PS_VGM' 'LO_PS_VGM'\n",
      " 'DT_VGM' 'DT_RT_VGM' 'PCR_SARS2' 'PAC_COCBO' 'PAC_DSCBO' 'OUT_ANIM'\n",
      " 'DOR_ABD' 'FADIGA' 'PERD_OLFT' 'PERD_PALA' 'TOMO_RES' 'TOMO_OUT'\n",
      " 'DT_TOMO' 'TP_TES_AN' 'DT_RES_AN' 'RES_AN' 'POS_AN_FLU' 'TP_FLU_AN'\n",
      " 'POS_AN_OUT' 'AN_SARS2' 'AN_VSR' 'AN_PARA1' 'AN_PARA2' 'AN_PARA3'\n",
      " 'AN_ADENO' 'AN_OUTRO' 'DS_AN_OUT' 'TP_AM_SOR' 'SOR_OUT' 'DT_CO_SOR'\n",
      " 'TP_SOR' 'OUT_SOR' 'DT_RES' 'RES_IGG' 'RES_IGM' 'RES_IGA']\n"
     ]
    }
   ],
   "source": [
    "# visualiza todas as colunas\n",
    "print(DadosDF.columns.values)"
   ]
  },
  {
   "cell_type": "code",
   "execution_count": null,
   "metadata": {},
   "outputs": [],
   "source": [
    "# COVID-19 Sintomas\n",
    "'''\n",
    "Sintomas mais comuns:\n",
    "– tosse\n",
    "– febre\n",
    "– falta de ar progressiva\n",
    "– chiado\n",
    "\n",
    "Sintomas menos comuns:\n",
    "- dores e desconfortos\n",
    "- dor de garganta\n",
    "- diarreia\n",
    "- conjuntivite\n",
    "- dor de cabeça\n",
    "- perda de paladar ou olfato\n",
    "- erupção cutânea na pele ou descoloração dos dedos das mãos ou dos pés\n",
    "\n",
    "sintomas graves:\n",
    "- pneumonia, \n",
    "- síndrome respiratória aguda grave \n",
    "- insuficiência renal \n",
    "- morte.\n",
    "\n",
    "Pessoas de Risco\n",
    "- idosos, \n",
    "- crianças \n",
    "- pacientes oncológicos, \n",
    "- portadores de imunodeficiências, \n",
    "- doenças respiratórias\n",
    "\n",
    "'''"
   ]
  },
  {
   "cell_type": "code",
   "execution_count": 120,
   "metadata": {},
   "outputs": [],
   "source": [
    "# Tratamento de Dados"
   ]
  },
  {
   "cell_type": "code",
   "execution_count": 4,
   "metadata": {},
   "outputs": [],
   "source": [
    "# axis=0 linha , axis=1 Coluna\n",
    "# Retirando as colunas desnecessarias\n",
    "# - Remoção de variáveis relacionadas ao óbito (data do óbito e número da declaração de óbito)\n",
    "\n",
    "Dados2DF = DadosDF.drop(['DT_NOTIFIC','SEM_NOT','DT_SIN_PRI','SEM_PRI','SG_UF_NOT','ID_REGIONA','CO_REGIONA','ID_MUNICIP','CO_MUN_NOT','ID_UNIDADE','CO_UNI_NOT','DT_NASC','TP_IDADE', 'COD_IDADE','CS_GESTANT','CS_RACA','CS_ETINIA','CS_ESCOL_N','ID_PAIS','CO_PAIS','SG_UF','ID_RG_RESI','CO_RG_RESI','ID_MN_RESI','CO_MUN_RES','CS_ZONA','AVE_SUINO','SIND_DOWN','NEUROLOGIC','VACINA','DT_UT_DOSE','MAE_VAC','DT_VAC_MAE','M_AMAMENTA','DT_DOSEUNI','DT_1_DOSE','DT_2_DOSE','ANTIVIRAL','TP_ANTIVIR','OUT_ANTIV','DT_ANTIVIR','DT_INTERNA','SG_UF_INTE','ID_RG_INTE','CO_RG_INTE','ID_MN_INTE','CO_MU_INTE','DT_ENTUTI','DT_SAIDUTI','RAIOX_RES','RAIOX_OUT','DT_RAIOX','DT_COLETA','TP_AMOSTRA','OUT_AMOST','DT_EVOLUCA','DT_ENCERRA','DT_DIGITA','DT_VGM','DT_RT_VGM','PAC_COCBO','PAC_DSCBO','OUT_ANIM','DT_TOMO','DT_CO_SOR','DT_RES','SURTO_SG','AN_ADENO','AN_OUTRO','DS_AN_OUT','TP_AM_SOR','SOR_OUT','TP_SOR','OUT_SOR','RES_IGG','RES_IGM','RES_IGA','HISTO_VGM','PAIS_VGM','CO_PS_VGM','LO_PS_VGM','PCR_SARS2','DOR_ABD','FADIGA','PERD_OLFT','PERD_PALA','TOMO_RES','TOMO_OUT','TP_TES_AN','DT_RES_AN','RES_AN','POS_AN_FLU','TP_FLU_AN','POS_AN_OUT','AN_SARS2','AN_VSR','AN_PARA1','AN_PARA2','AN_PARA3','AMOSTRA','PCR_RESUL','DT_PCR','POS_PCRFLU','TP_FLU_PCR','PCR_FLUASU','FLUASU_OUT','PCR_FLUBLI','FLUBLI_OUT','POS_PCROUT','PCR_VSR','PCR_PARA1','PCR_PARA2','PCR_PARA3','PCR_PARA4','PCR_ADENO','PCR_METAP','PCR_BOCA','PCR_RINO','PCR_OUTRO','DS_PCR_OUT','CLASSI_OUT','OBES_IMC','OUT_MORBI','MORB_DESC','SUPORT_VEN','PUERPERA','CS_SEXO','OUTRO_SIN','VOMITO','OUTRO_DES'], axis=1)"
   ]
  },
  {
   "cell_type": "code",
   "execution_count": 5,
   "metadata": {},
   "outputs": [
    {
     "data": {
      "text/plain": [
       "(973110, 24)"
      ]
     },
     "execution_count": 5,
     "metadata": {},
     "output_type": "execute_result"
    }
   ],
   "source": [
    "# Dados2DF agora possui os daos mais necessarios para a classificaçao\n",
    "Dados2DF.head()\n",
    "Dados2DF.shape"
   ]
  },
  {
   "cell_type": "code",
   "execution_count": 120,
   "metadata": {},
   "outputs": [
    {
     "data": {
      "text/html": [
       "<div>\n",
       "<style scoped>\n",
       "    .dataframe tbody tr th:only-of-type {\n",
       "        vertical-align: middle;\n",
       "    }\n",
       "\n",
       "    .dataframe tbody tr th {\n",
       "        vertical-align: top;\n",
       "    }\n",
       "\n",
       "    .dataframe thead th {\n",
       "        text-align: right;\n",
       "    }\n",
       "</style>\n",
       "<table border=\"1\" class=\"dataframe\">\n",
       "  <thead>\n",
       "    <tr style=\"text-align: right;\">\n",
       "      <th></th>\n",
       "      <th>NU_IDADE_N</th>\n",
       "      <th>NOSOCOMIAL</th>\n",
       "      <th>FEBRE</th>\n",
       "      <th>TOSSE</th>\n",
       "      <th>GARGANTA</th>\n",
       "      <th>DISPNEIA</th>\n",
       "      <th>DESC_RESP</th>\n",
       "      <th>SATURACAO</th>\n",
       "      <th>DIARREIA</th>\n",
       "      <th>FATOR_RISC</th>\n",
       "      <th>...</th>\n",
       "      <th>DIABETES</th>\n",
       "      <th>PNEUMOPATI</th>\n",
       "      <th>IMUNODEPRE</th>\n",
       "      <th>RENAL</th>\n",
       "      <th>OBESIDADE</th>\n",
       "      <th>HOSPITAL</th>\n",
       "      <th>UTI</th>\n",
       "      <th>CLASSI_FIN</th>\n",
       "      <th>CRITERIO</th>\n",
       "      <th>EVOLUCAO</th>\n",
       "    </tr>\n",
       "  </thead>\n",
       "  <tbody>\n",
       "    <tr>\n",
       "      <th>0</th>\n",
       "      <td>False</td>\n",
       "      <td>False</td>\n",
       "      <td>False</td>\n",
       "      <td>False</td>\n",
       "      <td>True</td>\n",
       "      <td>False</td>\n",
       "      <td>False</td>\n",
       "      <td>True</td>\n",
       "      <td>True</td>\n",
       "      <td>False</td>\n",
       "      <td>...</td>\n",
       "      <td>True</td>\n",
       "      <td>True</td>\n",
       "      <td>True</td>\n",
       "      <td>True</td>\n",
       "      <td>True</td>\n",
       "      <td>False</td>\n",
       "      <td>False</td>\n",
       "      <td>False</td>\n",
       "      <td>False</td>\n",
       "      <td>False</td>\n",
       "    </tr>\n",
       "    <tr>\n",
       "      <th>1</th>\n",
       "      <td>False</td>\n",
       "      <td>False</td>\n",
       "      <td>False</td>\n",
       "      <td>False</td>\n",
       "      <td>False</td>\n",
       "      <td>False</td>\n",
       "      <td>False</td>\n",
       "      <td>False</td>\n",
       "      <td>False</td>\n",
       "      <td>False</td>\n",
       "      <td>...</td>\n",
       "      <td>True</td>\n",
       "      <td>True</td>\n",
       "      <td>True</td>\n",
       "      <td>True</td>\n",
       "      <td>True</td>\n",
       "      <td>False</td>\n",
       "      <td>False</td>\n",
       "      <td>False</td>\n",
       "      <td>False</td>\n",
       "      <td>False</td>\n",
       "    </tr>\n",
       "    <tr>\n",
       "      <th>2</th>\n",
       "      <td>False</td>\n",
       "      <td>False</td>\n",
       "      <td>False</td>\n",
       "      <td>False</td>\n",
       "      <td>False</td>\n",
       "      <td>False</td>\n",
       "      <td>False</td>\n",
       "      <td>False</td>\n",
       "      <td>False</td>\n",
       "      <td>False</td>\n",
       "      <td>...</td>\n",
       "      <td>True</td>\n",
       "      <td>True</td>\n",
       "      <td>True</td>\n",
       "      <td>True</td>\n",
       "      <td>True</td>\n",
       "      <td>False</td>\n",
       "      <td>False</td>\n",
       "      <td>False</td>\n",
       "      <td>False</td>\n",
       "      <td>False</td>\n",
       "    </tr>\n",
       "    <tr>\n",
       "      <th>3</th>\n",
       "      <td>False</td>\n",
       "      <td>True</td>\n",
       "      <td>False</td>\n",
       "      <td>False</td>\n",
       "      <td>False</td>\n",
       "      <td>False</td>\n",
       "      <td>False</td>\n",
       "      <td>False</td>\n",
       "      <td>False</td>\n",
       "      <td>False</td>\n",
       "      <td>...</td>\n",
       "      <td>True</td>\n",
       "      <td>True</td>\n",
       "      <td>True</td>\n",
       "      <td>True</td>\n",
       "      <td>True</td>\n",
       "      <td>False</td>\n",
       "      <td>False</td>\n",
       "      <td>False</td>\n",
       "      <td>False</td>\n",
       "      <td>False</td>\n",
       "    </tr>\n",
       "    <tr>\n",
       "      <th>4</th>\n",
       "      <td>False</td>\n",
       "      <td>False</td>\n",
       "      <td>False</td>\n",
       "      <td>False</td>\n",
       "      <td>False</td>\n",
       "      <td>False</td>\n",
       "      <td>False</td>\n",
       "      <td>False</td>\n",
       "      <td>False</td>\n",
       "      <td>False</td>\n",
       "      <td>...</td>\n",
       "      <td>True</td>\n",
       "      <td>True</td>\n",
       "      <td>True</td>\n",
       "      <td>True</td>\n",
       "      <td>True</td>\n",
       "      <td>False</td>\n",
       "      <td>False</td>\n",
       "      <td>False</td>\n",
       "      <td>False</td>\n",
       "      <td>False</td>\n",
       "    </tr>\n",
       "    <tr>\n",
       "      <th>...</th>\n",
       "      <td>...</td>\n",
       "      <td>...</td>\n",
       "      <td>...</td>\n",
       "      <td>...</td>\n",
       "      <td>...</td>\n",
       "      <td>...</td>\n",
       "      <td>...</td>\n",
       "      <td>...</td>\n",
       "      <td>...</td>\n",
       "      <td>...</td>\n",
       "      <td>...</td>\n",
       "      <td>...</td>\n",
       "      <td>...</td>\n",
       "      <td>...</td>\n",
       "      <td>...</td>\n",
       "      <td>...</td>\n",
       "      <td>...</td>\n",
       "      <td>...</td>\n",
       "      <td>...</td>\n",
       "      <td>...</td>\n",
       "      <td>...</td>\n",
       "    </tr>\n",
       "    <tr>\n",
       "      <th>973105</th>\n",
       "      <td>False</td>\n",
       "      <td>True</td>\n",
       "      <td>False</td>\n",
       "      <td>False</td>\n",
       "      <td>False</td>\n",
       "      <td>False</td>\n",
       "      <td>True</td>\n",
       "      <td>True</td>\n",
       "      <td>True</td>\n",
       "      <td>False</td>\n",
       "      <td>...</td>\n",
       "      <td>True</td>\n",
       "      <td>True</td>\n",
       "      <td>True</td>\n",
       "      <td>True</td>\n",
       "      <td>True</td>\n",
       "      <td>False</td>\n",
       "      <td>True</td>\n",
       "      <td>False</td>\n",
       "      <td>False</td>\n",
       "      <td>False</td>\n",
       "    </tr>\n",
       "    <tr>\n",
       "      <th>973106</th>\n",
       "      <td>False</td>\n",
       "      <td>False</td>\n",
       "      <td>False</td>\n",
       "      <td>False</td>\n",
       "      <td>True</td>\n",
       "      <td>False</td>\n",
       "      <td>False</td>\n",
       "      <td>True</td>\n",
       "      <td>True</td>\n",
       "      <td>False</td>\n",
       "      <td>...</td>\n",
       "      <td>True</td>\n",
       "      <td>True</td>\n",
       "      <td>True</td>\n",
       "      <td>True</td>\n",
       "      <td>False</td>\n",
       "      <td>False</td>\n",
       "      <td>False</td>\n",
       "      <td>False</td>\n",
       "      <td>False</td>\n",
       "      <td>False</td>\n",
       "    </tr>\n",
       "    <tr>\n",
       "      <th>973107</th>\n",
       "      <td>False</td>\n",
       "      <td>True</td>\n",
       "      <td>False</td>\n",
       "      <td>False</td>\n",
       "      <td>True</td>\n",
       "      <td>False</td>\n",
       "      <td>True</td>\n",
       "      <td>True</td>\n",
       "      <td>True</td>\n",
       "      <td>False</td>\n",
       "      <td>...</td>\n",
       "      <td>True</td>\n",
       "      <td>False</td>\n",
       "      <td>True</td>\n",
       "      <td>True</td>\n",
       "      <td>True</td>\n",
       "      <td>False</td>\n",
       "      <td>True</td>\n",
       "      <td>False</td>\n",
       "      <td>False</td>\n",
       "      <td>True</td>\n",
       "    </tr>\n",
       "    <tr>\n",
       "      <th>973108</th>\n",
       "      <td>False</td>\n",
       "      <td>False</td>\n",
       "      <td>False</td>\n",
       "      <td>False</td>\n",
       "      <td>False</td>\n",
       "      <td>True</td>\n",
       "      <td>False</td>\n",
       "      <td>False</td>\n",
       "      <td>True</td>\n",
       "      <td>False</td>\n",
       "      <td>...</td>\n",
       "      <td>False</td>\n",
       "      <td>True</td>\n",
       "      <td>True</td>\n",
       "      <td>False</td>\n",
       "      <td>True</td>\n",
       "      <td>False</td>\n",
       "      <td>False</td>\n",
       "      <td>False</td>\n",
       "      <td>False</td>\n",
       "      <td>True</td>\n",
       "    </tr>\n",
       "    <tr>\n",
       "      <th>973109</th>\n",
       "      <td>False</td>\n",
       "      <td>False</td>\n",
       "      <td>False</td>\n",
       "      <td>False</td>\n",
       "      <td>False</td>\n",
       "      <td>False</td>\n",
       "      <td>False</td>\n",
       "      <td>False</td>\n",
       "      <td>False</td>\n",
       "      <td>False</td>\n",
       "      <td>...</td>\n",
       "      <td>False</td>\n",
       "      <td>False</td>\n",
       "      <td>False</td>\n",
       "      <td>False</td>\n",
       "      <td>False</td>\n",
       "      <td>False</td>\n",
       "      <td>False</td>\n",
       "      <td>True</td>\n",
       "      <td>True</td>\n",
       "      <td>True</td>\n",
       "    </tr>\n",
       "  </tbody>\n",
       "</table>\n",
       "<p>973110 rows × 24 columns</p>\n",
       "</div>"
      ],
      "text/plain": [
       "        NU_IDADE_N  NOSOCOMIAL  FEBRE  TOSSE  GARGANTA  DISPNEIA  DESC_RESP  \\\n",
       "0            False       False  False  False      True     False      False   \n",
       "1            False       False  False  False     False     False      False   \n",
       "2            False       False  False  False     False     False      False   \n",
       "3            False        True  False  False     False     False      False   \n",
       "4            False       False  False  False     False     False      False   \n",
       "...            ...         ...    ...    ...       ...       ...        ...   \n",
       "973105       False        True  False  False     False     False       True   \n",
       "973106       False       False  False  False      True     False      False   \n",
       "973107       False        True  False  False      True     False       True   \n",
       "973108       False       False  False  False     False      True      False   \n",
       "973109       False       False  False  False     False     False      False   \n",
       "\n",
       "        SATURACAO  DIARREIA  FATOR_RISC  ...  DIABETES  PNEUMOPATI  \\\n",
       "0            True      True       False  ...      True        True   \n",
       "1           False     False       False  ...      True        True   \n",
       "2           False     False       False  ...      True        True   \n",
       "3           False     False       False  ...      True        True   \n",
       "4           False     False       False  ...      True        True   \n",
       "...           ...       ...         ...  ...       ...         ...   \n",
       "973105       True      True       False  ...      True        True   \n",
       "973106       True      True       False  ...      True        True   \n",
       "973107       True      True       False  ...      True       False   \n",
       "973108      False      True       False  ...     False        True   \n",
       "973109      False     False       False  ...     False       False   \n",
       "\n",
       "        IMUNODEPRE  RENAL  OBESIDADE  HOSPITAL    UTI  CLASSI_FIN  CRITERIO  \\\n",
       "0             True   True       True     False  False       False     False   \n",
       "1             True   True       True     False  False       False     False   \n",
       "2             True   True       True     False  False       False     False   \n",
       "3             True   True       True     False  False       False     False   \n",
       "4             True   True       True     False  False       False     False   \n",
       "...            ...    ...        ...       ...    ...         ...       ...   \n",
       "973105        True   True       True     False   True       False     False   \n",
       "973106        True   True      False     False  False       False     False   \n",
       "973107        True   True       True     False   True       False     False   \n",
       "973108        True  False       True     False  False       False     False   \n",
       "973109       False  False      False     False  False        True      True   \n",
       "\n",
       "        EVOLUCAO  \n",
       "0          False  \n",
       "1          False  \n",
       "2          False  \n",
       "3          False  \n",
       "4          False  \n",
       "...          ...  \n",
       "973105     False  \n",
       "973106     False  \n",
       "973107      True  \n",
       "973108      True  \n",
       "973109      True  \n",
       "\n",
       "[973110 rows x 24 columns]"
      ]
     },
     "execution_count": 120,
     "metadata": {},
     "output_type": "execute_result"
    }
   ],
   "source": [
    "falta = Dados2DF.isnull()\n",
    "falta"
   ]
  },
  {
   "cell_type": "code",
   "execution_count": 121,
   "metadata": {},
   "outputs": [
    {
     "name": "stdout",
     "output_type": "stream",
     "text": [
      "0         2.0\n",
      "1         4.0\n",
      "2         4.0\n",
      "3         4.0\n",
      "4         4.0\n",
      "         ... \n",
      "973105    4.0\n",
      "973106    5.0\n",
      "973107    5.0\n",
      "973108    5.0\n",
      "973109    NaN\n",
      "Name: CLASSI_FIN, Length: 973110, dtype: float64\n"
     ]
    }
   ],
   "source": [
    "# Classificaçao SRAG Final\n",
    "print(Dados2DF['CLASSI_FIN'])"
   ]
  },
  {
   "cell_type": "code",
   "execution_count": 6,
   "metadata": {},
   "outputs": [],
   "source": [
    "# - Remoção de casos de SRAG não diagnosticados como COVID-19;\n",
    "# ['CLASSI_FIN'] Diagnostico Final do Caso\n",
    "# 1-SRAG por influenza\n",
    "# 2-SRAG por outro vírus respiratório\n",
    "# 3-SRAG por outro agente etiológico, qual:\n",
    "# 4-SRAG não especificado\n",
    "# 5-SRAG por COVID-19\n",
    "\n",
    "Dados2DF = Dados2DF.loc[Dados2DF['CLASSI_FIN'] < 5]"
   ]
  },
  {
   "cell_type": "code",
   "execution_count": 123,
   "metadata": {},
   "outputs": [
    {
     "data": {
      "text/plain": [
       "(353354, 24)"
      ]
     },
     "execution_count": 123,
     "metadata": {},
     "output_type": "execute_result"
    }
   ],
   "source": [
    "Dados2DF.shape"
   ]
  },
  {
   "cell_type": "code",
   "execution_count": 7,
   "metadata": {},
   "outputs": [],
   "source": [
    "# tratando variaveis Na\n",
    "for val in Dados2DF:\n",
    "    Dados2DF[val] = Dados2DF[val].fillna(0)\n",
    "    Dados2DF[val] = Dados2DF[val].replace('S',1)\n",
    "    Dados2DF[val] = Dados2DF[val].replace('N',0)"
   ]
  },
  {
   "cell_type": "code",
   "execution_count": 8,
   "metadata": {},
   "outputs": [],
   "source": [
    "# Filtrando a tabela \n",
    "# como a coluna [EVOLUÇAO] trata , cura e obitos \n",
    "# 1 = cura e 2 = obito\n",
    "Dados2DF = Dados2DF.loc[DadosDF['EVOLUCAO'] < 3]"
   ]
  },
  {
   "cell_type": "code",
   "execution_count": 9,
   "metadata": {},
   "outputs": [
    {
     "name": "stdout",
     "output_type": "stream",
     "text": [
      "['NU_IDADE_N' 'NOSOCOMIAL' 'FEBRE' 'TOSSE' 'GARGANTA' 'DISPNEIA'\n",
      " 'DESC_RESP' 'SATURACAO' 'DIARREIA' 'FATOR_RISC' 'CARDIOPATI' 'HEMATOLOGI'\n",
      " 'HEPATICA' 'ASMA' 'DIABETES' 'PNEUMOPATI' 'IMUNODEPRE' 'RENAL'\n",
      " 'OBESIDADE' 'HOSPITAL' 'UTI' 'CLASSI_FIN' 'CRITERIO' 'EVOLUCAO']\n"
     ]
    }
   ],
   "source": [
    "# visualiza todas as colunas\n",
    "print(Dados2DF.columns.values)"
   ]
  },
  {
   "cell_type": "code",
   "execution_count": 146,
   "metadata": {},
   "outputs": [
    {
     "data": {
      "text/plain": [
       "(300391, 24)"
      ]
     },
     "execution_count": 146,
     "metadata": {},
     "output_type": "execute_result"
    }
   ],
   "source": [
    "Dados2DF.shape"
   ]
  },
  {
   "cell_type": "code",
   "execution_count": 10,
   "metadata": {},
   "outputs": [],
   "source": [
    "# Seleção e tratamento de variáveis;\n",
    "\n",
    "# separando as variaveis entre preditoras e alvo\n",
    "# Variavel y é nosso alvo ['EVOLUCAO'] , pois obtem os casos de obitos e curas\n",
    "y = Dados2DF['EVOLUCAO']\n"
   ]
  },
  {
   "cell_type": "code",
   "execution_count": 11,
   "metadata": {},
   "outputs": [],
   "source": [
    "# drop exclui e 'axis' modifica so a coluna , deicxando a variavel x com o restante dos dados para as analises\n",
    "\n",
    "x = Dados2DF.drop(\"EVOLUCAO\", axis=1)"
   ]
  },
  {
   "cell_type": "code",
   "execution_count": 12,
   "metadata": {},
   "outputs": [],
   "source": [
    "# Treino de classificador para classificar entre “óbito por COVID-19” e “cura” (informação da coluna “EVOLUCAO”);\n",
    "\n",
    "# Importando funçao train_test_split\n",
    "from sklearn.model_selection import train_test_split"
   ]
  },
  {
   "cell_type": "code",
   "execution_count": 13,
   "metadata": {},
   "outputs": [],
   "source": [
    "# Essa funçao separa as variaveis entre teste e treino \n",
    "# teste_size = 0.3 igual a 30% sera para teste e 70% pra treino\n",
    "x_treino, x_teste, y_treino, y_teste = train_test_split(x,y, test_size = 0.3)"
   ]
  },
  {
   "cell_type": "code",
   "execution_count": 14,
   "metadata": {},
   "outputs": [],
   "source": [
    "# Funçao que faz a Classificaçao que trabalha com arvores de decisao\n",
    "from sklearn.ensemble import ExtraTreesClassifier\n",
    "# criaçao do modelo\n",
    "model = ExtraTreesClassifier()\n"
   ]
  },
  {
   "cell_type": "code",
   "execution_count": 15,
   "metadata": {},
   "outputs": [
    {
     "data": {
      "text/plain": [
       "ExtraTreesClassifier()"
      ]
     },
     "execution_count": 15,
     "metadata": {},
     "output_type": "execute_result"
    }
   ],
   "source": [
    "# fit() aplica o algoritmo machine learning nos dados (treino)\n",
    "model.fit(x_treino,y_treino)"
   ]
  },
  {
   "cell_type": "code",
   "execution_count": 20,
   "metadata": {},
   "outputs": [
    {
     "name": "stdout",
     "output_type": "stream",
     "text": [
      "Acuracia: 0.76 % \n",
      "\n"
     ]
    }
   ],
   "source": [
    "\n",
    "# Avaliar classificador e reportar a acurácia geral e por classe em conjunto de teste.\n",
    "\n",
    "# Imprimindo rsultado\n",
    "# Funçao score compara os algoritmos de teste(que sao os dados reais)\n",
    "# Vai tentar fazer a previsao em cima de cada variavel\n",
    "\n",
    "resultado = model.score(x_teste, y_teste)\n",
    "print('Acuracia: %.2f' % round(resultado,2),'% \\n')"
   ]
  },
  {
   "cell_type": "code",
   "execution_count": 25,
   "metadata": {},
   "outputs": [],
   "source": [
    "# Acuracia por Classe \n",
    "from sklearn.metrics import confusion_matrix"
   ]
  },
  {
   "cell_type": "code",
   "execution_count": 27,
   "metadata": {},
   "outputs": [],
   "source": [
    "y_predi = modelo.predict(x_teste)"
   ]
  },
  {
   "cell_type": "code",
   "execution_count": 28,
   "metadata": {},
   "outputs": [],
   "source": [
    "confusao = confusion_matrix(y_teste, y_predi)"
   ]
  },
  {
   "cell_type": "code",
   "execution_count": 29,
   "metadata": {},
   "outputs": [
    {
     "data": {
      "text/plain": [
       "array([[61720,  7733],\n",
       "       [13894,  6771]], dtype=int64)"
      ]
     },
     "execution_count": 29,
     "metadata": {},
     "output_type": "execute_result"
    }
   ],
   "source": [
    "confusao"
   ]
  },
  {
   "cell_type": "code",
   "execution_count": 40,
   "metadata": {},
   "outputs": [],
   "source": [
    "result = confusao[0][0] / (confusao[0][0] + confusao[1][0] ) #Cura"
   ]
  },
  {
   "cell_type": "code",
   "execution_count": 41,
   "metadata": {},
   "outputs": [
    {
     "data": {
      "text/plain": [
       "0.8162509588171503"
      ]
     },
     "execution_count": 41,
     "metadata": {},
     "output_type": "execute_result"
    }
   ],
   "source": [
    "result"
   ]
  },
  {
   "cell_type": "code",
   "execution_count": 42,
   "metadata": {},
   "outputs": [],
   "source": [
    "result1 = confusao[0][1] / (confusao[0][1] + confusao[1][1] )  #Obito"
   ]
  },
  {
   "cell_type": "code",
   "execution_count": 43,
   "metadata": {},
   "outputs": [
    {
     "data": {
      "text/plain": [
       "0.5331632653061225"
      ]
     },
     "execution_count": 43,
     "metadata": {},
     "output_type": "execute_result"
    }
   ],
   "source": [
    "result1"
   ]
  }
 ],
 "metadata": {
  "kernelspec": {
   "name": "python395jvsc74a57bd073ba45a076ac1e116aba418781c80c7cbe19c4d416e51e0d8ab02859d4f6318f",
   "display_name": "Python 3.9.5 64-bit"
  },
  "language_info": {
   "codemirror_mode": {
    "name": "ipython",
    "version": 3
   },
   "file_extension": ".py",
   "mimetype": "text/x-python",
   "name": "python",
   "nbconvert_exporter": "python",
   "pygments_lexer": "ipython3",
   "version": "3.9.5"
  },
  "metadata": {
   "interpreter": {
    "hash": "73ba45a076ac1e116aba418781c80c7cbe19c4d416e51e0d8ab02859d4f6318f"
   }
  }
 },
 "nbformat": 4,
 "nbformat_minor": 4
}