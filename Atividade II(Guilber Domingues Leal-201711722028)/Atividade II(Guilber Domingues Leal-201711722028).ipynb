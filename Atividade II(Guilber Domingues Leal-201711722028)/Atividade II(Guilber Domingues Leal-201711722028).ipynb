{
 "cells": [
  {
   "cell_type": "code",
   "execution_count": 2,
   "metadata": {},
   "outputs": [
    {
     "ename": "ModuleNotFoundError",
     "evalue": "No module named 'pandas'",
     "output_type": "error",
     "traceback": [
      "\u001b[1;31m---------------------------------------------------------------------------\u001b[0m",
      "\u001b[1;31mModuleNotFoundError\u001b[0m                       Traceback (most recent call last)",
      "\u001b[1;32mc:\\Users\\guilb\\Documentos\\INTELIGENCIA-ARTIFICIAL\\Atividade II(Guilber Domingues Leal-201711722028)\\Atividade II(Guilber Domingues Leal-201711722028).ipynb Cell 1'\u001b[0m in \u001b[0;36m<cell line: 2>\u001b[1;34m()\u001b[0m\n\u001b[0;32m      <a href='vscode-notebook-cell:/c%3A/Users/guilb/Documentos/INTELIGENCIA-ARTIFICIAL/Atividade%20II%28Guilber%20Domingues%20Leal-201711722028%29/Atividade%20II%28Guilber%20Domingues%20Leal-201711722028%29.ipynb#ch0000000?line=0'>1</a>\u001b[0m \u001b[39m#importando bibliotecas.\u001b[39;00m\n\u001b[1;32m----> <a href='vscode-notebook-cell:/c%3A/Users/guilb/Documentos/INTELIGENCIA-ARTIFICIAL/Atividade%20II%28Guilber%20Domingues%20Leal-201711722028%29/Atividade%20II%28Guilber%20Domingues%20Leal-201711722028%29.ipynb#ch0000000?line=1'>2</a>\u001b[0m \u001b[39mimport\u001b[39;00m \u001b[39mpandas\u001b[39;00m \u001b[39mas\u001b[39;00m \u001b[39mpd\u001b[39;00m \n\u001b[0;32m      <a href='vscode-notebook-cell:/c%3A/Users/guilb/Documentos/INTELIGENCIA-ARTIFICIAL/Atividade%20II%28Guilber%20Domingues%20Leal-201711722028%29/Atividade%20II%28Guilber%20Domingues%20Leal-201711722028%29.ipynb#ch0000000?line=2'>3</a>\u001b[0m \u001b[39mimport\u001b[39;00m \u001b[39mnumpy\u001b[39;00m \u001b[39mas\u001b[39;00m \u001b[39mnp\u001b[39;00m\n",
      "\u001b[1;31mModuleNotFoundError\u001b[0m: No module named 'pandas'"
     ]
    }
   ],
   "source": [
    "#importando bibliotecas.\n",
    "import pandas as pd \n",
    "import numpy as np "
   ]
  },
  {
   "cell_type": "code",
   "execution_count": null,
   "metadata": {},
   "outputs": [],
   "source": [
    "from sklearn.model_selection import train_test_split\n",
    "from sklearn.ensemble import GradientBoostingClassifier"
   ]
  },
  {
   "cell_type": "code",
   "execution_count": null,
   "metadata": {},
   "outputs": [],
   "source": [
    "#Chama de variaveis necessarias para as comparações.\n",
    "data = pd.read_csv('covid2021.csv', sep=';', usecols=['NU_IDADE_N','CARDIOPATI', 'DIABETES','HEPATICA','ASMA', 'PNEUMOPATI','OBESIDADE', 'VACINA_COV','EVOLUCAO'])"
   ]
  },
  {
   "cell_type": "code",
   "execution_count": null,
   "metadata": {},
   "outputs": [],
   "source": [
    "#Manuseio dos dados.\n",
    "data['NU_IDADE_N'] = data['NU_IDADE_N'] / 130\n",
    "data = data.fillna(0.0)\n",
    "data = data.replace([1.0,2.0,9.0],[0.0,1.0,0.0])\n",
    "data = data[data.EVOLUCAO != 9.0]\n",
    "data = data[data.EVOLUCAO != 3.0]"
   ]
  },
  {
   "cell_type": "code",
   "execution_count": null,
   "metadata": {},
   "outputs": [
    {
     "data": {
      "text/html": [
       "<div>\n",
       "<style scoped>\n",
       "    .dataframe tbody tr th:only-of-type {\n",
       "        vertical-align: middle;\n",
       "    }\n",
       "\n",
       "    .dataframe tbody tr th {\n",
       "        vertical-align: top;\n",
       "    }\n",
       "\n",
       "    .dataframe thead th {\n",
       "        text-align: right;\n",
       "    }\n",
       "</style>\n",
       "<table border=\"1\" class=\"dataframe\">\n",
       "  <thead>\n",
       "    <tr style=\"text-align: right;\">\n",
       "      <th></th>\n",
       "      <th>NU_IDADE_N</th>\n",
       "      <th>CARDIOPATI</th>\n",
       "      <th>HEPATICA</th>\n",
       "      <th>ASMA</th>\n",
       "      <th>DIABETES</th>\n",
       "      <th>PNEUMOPATI</th>\n",
       "      <th>OBESIDADE</th>\n",
       "      <th>EVOLUCAO</th>\n",
       "      <th>VACINA_COV</th>\n",
       "    </tr>\n",
       "  </thead>\n",
       "  <tbody>\n",
       "    <tr>\n",
       "      <th>0</th>\n",
       "      <td>0.169231</td>\n",
       "      <td>1.0</td>\n",
       "      <td>1.0</td>\n",
       "      <td>1.0</td>\n",
       "      <td>1.0</td>\n",
       "      <td>1.0</td>\n",
       "      <td>1.0</td>\n",
       "      <td>0.0</td>\n",
       "      <td>0.0</td>\n",
       "    </tr>\n",
       "    <tr>\n",
       "      <th>1</th>\n",
       "      <td>0.738462</td>\n",
       "      <td>0.0</td>\n",
       "      <td>0.0</td>\n",
       "      <td>0.0</td>\n",
       "      <td>0.0</td>\n",
       "      <td>0.0</td>\n",
       "      <td>0.0</td>\n",
       "      <td>0.0</td>\n",
       "      <td>1.0</td>\n",
       "    </tr>\n",
       "    <tr>\n",
       "      <th>2</th>\n",
       "      <td>0.338462</td>\n",
       "      <td>0.0</td>\n",
       "      <td>0.0</td>\n",
       "      <td>0.0</td>\n",
       "      <td>0.0</td>\n",
       "      <td>0.0</td>\n",
       "      <td>0.0</td>\n",
       "      <td>0.0</td>\n",
       "      <td>0.0</td>\n",
       "    </tr>\n",
       "    <tr>\n",
       "      <th>3</th>\n",
       "      <td>0.469231</td>\n",
       "      <td>0.0</td>\n",
       "      <td>0.0</td>\n",
       "      <td>0.0</td>\n",
       "      <td>0.0</td>\n",
       "      <td>0.0</td>\n",
       "      <td>0.0</td>\n",
       "      <td>0.0</td>\n",
       "      <td>0.0</td>\n",
       "    </tr>\n",
       "    <tr>\n",
       "      <th>4</th>\n",
       "      <td>0.484615</td>\n",
       "      <td>1.0</td>\n",
       "      <td>1.0</td>\n",
       "      <td>0.0</td>\n",
       "      <td>1.0</td>\n",
       "      <td>1.0</td>\n",
       "      <td>1.0</td>\n",
       "      <td>0.0</td>\n",
       "      <td>0.0</td>\n",
       "    </tr>\n",
       "    <tr>\n",
       "      <th>...</th>\n",
       "      <td>...</td>\n",
       "      <td>...</td>\n",
       "      <td>...</td>\n",
       "      <td>...</td>\n",
       "      <td>...</td>\n",
       "      <td>...</td>\n",
       "      <td>...</td>\n",
       "      <td>...</td>\n",
       "      <td>...</td>\n",
       "    </tr>\n",
       "    <tr>\n",
       "      <th>1714295</th>\n",
       "      <td>0.038462</td>\n",
       "      <td>0.0</td>\n",
       "      <td>0.0</td>\n",
       "      <td>0.0</td>\n",
       "      <td>0.0</td>\n",
       "      <td>0.0</td>\n",
       "      <td>0.0</td>\n",
       "      <td>0.0</td>\n",
       "      <td>1.0</td>\n",
       "    </tr>\n",
       "    <tr>\n",
       "      <th>1714296</th>\n",
       "      <td>0.007692</td>\n",
       "      <td>0.0</td>\n",
       "      <td>0.0</td>\n",
       "      <td>0.0</td>\n",
       "      <td>0.0</td>\n",
       "      <td>0.0</td>\n",
       "      <td>0.0</td>\n",
       "      <td>0.0</td>\n",
       "      <td>0.0</td>\n",
       "    </tr>\n",
       "    <tr>\n",
       "      <th>1714297</th>\n",
       "      <td>0.469231</td>\n",
       "      <td>1.0</td>\n",
       "      <td>1.0</td>\n",
       "      <td>1.0</td>\n",
       "      <td>1.0</td>\n",
       "      <td>1.0</td>\n",
       "      <td>1.0</td>\n",
       "      <td>0.0</td>\n",
       "      <td>1.0</td>\n",
       "    </tr>\n",
       "    <tr>\n",
       "      <th>1714298</th>\n",
       "      <td>0.353846</td>\n",
       "      <td>0.0</td>\n",
       "      <td>0.0</td>\n",
       "      <td>0.0</td>\n",
       "      <td>0.0</td>\n",
       "      <td>0.0</td>\n",
       "      <td>0.0</td>\n",
       "      <td>1.0</td>\n",
       "      <td>0.0</td>\n",
       "    </tr>\n",
       "    <tr>\n",
       "      <th>1714299</th>\n",
       "      <td>0.530769</td>\n",
       "      <td>0.0</td>\n",
       "      <td>0.0</td>\n",
       "      <td>0.0</td>\n",
       "      <td>0.0</td>\n",
       "      <td>0.0</td>\n",
       "      <td>0.0</td>\n",
       "      <td>1.0</td>\n",
       "      <td>0.0</td>\n",
       "    </tr>\n",
       "  </tbody>\n",
       "</table>\n",
       "<p>1694419 rows × 9 columns</p>\n",
       "</div>"
      ],
      "text/plain": [
       "         NU_IDADE_N  CARDIOPATI  HEPATICA  ASMA  DIABETES  PNEUMOPATI  \\\n",
       "0          0.169231         1.0       1.0   1.0       1.0         1.0   \n",
       "1          0.738462         0.0       0.0   0.0       0.0         0.0   \n",
       "2          0.338462         0.0       0.0   0.0       0.0         0.0   \n",
       "3          0.469231         0.0       0.0   0.0       0.0         0.0   \n",
       "4          0.484615         1.0       1.0   0.0       1.0         1.0   \n",
       "...             ...         ...       ...   ...       ...         ...   \n",
       "1714295    0.038462         0.0       0.0   0.0       0.0         0.0   \n",
       "1714296    0.007692         0.0       0.0   0.0       0.0         0.0   \n",
       "1714297    0.469231         1.0       1.0   1.0       1.0         1.0   \n",
       "1714298    0.353846         0.0       0.0   0.0       0.0         0.0   \n",
       "1714299    0.530769         0.0       0.0   0.0       0.0         0.0   \n",
       "\n",
       "         OBESIDADE  EVOLUCAO  VACINA_COV  \n",
       "0              1.0       0.0         0.0  \n",
       "1              0.0       0.0         1.0  \n",
       "2              0.0       0.0         0.0  \n",
       "3              0.0       0.0         0.0  \n",
       "4              1.0       0.0         0.0  \n",
       "...            ...       ...         ...  \n",
       "1714295        0.0       0.0         1.0  \n",
       "1714296        0.0       0.0         0.0  \n",
       "1714297        1.0       0.0         1.0  \n",
       "1714298        0.0       1.0         0.0  \n",
       "1714299        0.0       1.0         0.0  \n",
       "\n",
       "[1694419 rows x 9 columns]"
      ]
     },
     "execution_count": 11,
     "metadata": {},
     "output_type": "execute_result"
    }
   ],
   "source": [
    "#Impressão dos dos dados necessarios.\n",
    "data"
   ]
  },
  {
   "cell_type": "code",
   "execution_count": null,
   "metadata": {},
   "outputs": [
    {
     "name": "stderr",
     "output_type": "stream",
     "text": [
      "C:\\Users\\jgmag\\AppData\\Local\\Programs\\Python\\Python310\\lib\\site-packages\\sklearn\\ensemble\\_gb.py:494: DataConversionWarning: A column-vector y was passed when a 1d array was expected. Please change the shape of y to (n_samples, ), for example using ravel().\n",
      "  y = column_or_1d(y, warn=True)\n"
     ]
    }
   ],
   "source": [
    "#Teste de acuracidade final.\n",
    "x = data[['ASMA','OBESIDADE','NU_IDADE_N','CARDIOPATI', 'DIABETES','HEPATICA', 'PNEUMOPATI', 'VACINA_COV']].values\n",
    "y = data[['EVOLUCAO']].values\n",
    "x_treino, x_teste, y_treino, y_teste = train_test_split(x, y, test_size=0.30, random_state=42) \n",
    "clf = GradientBoostingClassifier(n_estimators=100, learning_rate=1.0, max_depth=1, random_state=0).fit(x_treino, y_treino)"
   ]
  },
  {
   "cell_type": "code",
   "execution_count": null,
   "metadata": {},
   "outputs": [
    {
     "name": "stdout",
     "output_type": "stream",
     "text": [
      "0.7494835991076593\n"
     ]
    }
   ],
   "source": [
    "#Impressão do score.\n",
    "print(clf.score(x_teste, y_teste))"
   ]
  }
 ],
 "metadata": {
  "interpreter": {
   "hash": "8c3ff32fa868326652bc1780c3f8c61a3c7f37e2465ba7b3bf3d33b8ec773be8"
  },
  "kernelspec": {
   "display_name": "Python 3.10.0 64-bit",
   "language": "python",
   "name": "python3"
  },
  "language_info": {
   "codemirror_mode": {
    "name": "ipython",
    "version": 3
   },
   "file_extension": ".py",
   "mimetype": "text/x-python",
   "name": "python",
   "nbconvert_exporter": "python",
   "pygments_lexer": "ipython3",
   "version": "3.8.10"
  },
  "orig_nbformat": 4
 },
 "nbformat": 4,
 "nbformat_minor": 2
}
